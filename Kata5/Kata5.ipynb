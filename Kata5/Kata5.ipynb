{
 "cells": [
  {
   "cell_type": "markdown",
   "metadata": {},
   "source": [
    "# Operaciones matematicas\n",
    "\n",
    "### Ejercicio 1"
   ]
  },
  {
   "cell_type": "code",
   "execution_count": 4,
   "metadata": {},
   "outputs": [
    {
     "name": "stdout",
     "output_type": "stream",
     "text": [
      "La distancia entre la tierra y jupiter es: 628949330 km\n",
      "La distancia entre la tierra y jupiter es: 390577533.93 mi\n"
     ]
    }
   ],
   "source": [
    "# Crear variables para almacenar las dos distancias\n",
    "\n",
    "tierra=149597870 \n",
    "jupyter=778547200\n",
    "\n",
    "distancia= jupyter-tierra\n",
    "\n",
    "print('La distancia entre la tierra y jupiter es: {} km'.format(distancia) )\n",
    "print('La distancia entre la tierra y jupiter es: {} mi'.format(distancia*.621) )\n"
   ]
  },
  {
   "cell_type": "markdown",
   "metadata": {},
   "source": [
    "### Ejercicio 2: convierte cadenas en números y usa valores absolutos"
   ]
  },
  {
   "cell_type": "code",
   "execution_count": 9,
   "metadata": {},
   "outputs": [
    {
     "name": "stdout",
     "output_type": "stream",
     "text": [
      "La distancia entre la tierra y jupiter es: 5000 km\n",
      "La distancia entre la tierra y jupiter es: 3105.0 mi\n"
     ]
    }
   ],
   "source": [
    "# Almacenar las entradas del usuario\n",
    "inpPrimer = input(\"¿Cuál es la distancia del primer planeta al sol en Km?\")\n",
    "inpSegundo = input(\"¿Cuál es la distancia del segundo planeta al sol en Km\")\n",
    "\n",
    "# Convierte las cadenas de ambos planetas a números enteros\n",
    "intPrimer = int(inpPrimer)\n",
    "intSegundo = int(inpSegundo)\n",
    "\n",
    "distancia_km = abs(intSegundo-intPrimer)\n",
    "\n",
    "print('La distancia entre la tierra y jupiter es: {} km'.format(distancia_km) )\n",
    "print('La distancia entre la tierra y jupiter es: {} mi'.format(abs(distancia_km*.621)) )\n"
   ]
  }
 ],
 "metadata": {
  "interpreter": {
   "hash": "9a46aadc68dd35e5d84a370dd720f9118447f9f7a9b6977dedb8e430f5a687ca"
  },
  "kernelspec": {
   "display_name": "Python 3.10.2 64-bit",
   "language": "python",
   "name": "python3"
  },
  "language_info": {
   "codemirror_mode": {
    "name": "ipython",
    "version": 3
   },
   "file_extension": ".py",
   "mimetype": "text/x-python",
   "name": "python",
   "nbconvert_exporter": "python",
   "pygments_lexer": "ipython3",
   "version": "3.10.2"
  },
  "orig_nbformat": 4
 },
 "nbformat": 4,
 "nbformat_minor": 2
}
