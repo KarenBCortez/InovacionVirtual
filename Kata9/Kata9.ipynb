{
 "cells": [
  {
   "cell_type": "markdown",
   "metadata": {},
   "source": [
    "# Funciones de Python\n",
    "\n",
    "###  Trabajar con argumentos en funciones"
   ]
  },
  {
   "cell_type": "code",
   "execution_count": 12,
   "metadata": {},
   "outputs": [
    {
     "name": "stdout",
     "output_type": "stream",
     "text": [
      "El promedio de combustible es 10.0\n"
     ]
    }
   ],
   "source": [
    "# Función para leer 3 tanques de combustible y muestre el promedio\n",
    "\n",
    "def promedioCombustible(tanque1, tanque2, tanque3):\n",
    "    print('El promedio de combustible es', obtenerPromedio([tanque1, tanque2, tanque3]))\n",
    "\n",
    "# Función promedio \n",
    "\n",
    "def obtenerPromedio(tanques):\n",
    "    promedio = sum(tanques)/len(tanques)\n",
    "\n",
    "    return promedio\n",
    "\n",
    "# Llamamos a la función que genera el reporte print(funcion(tanque1, tanque2, tanque3))\n",
    "promedioCombustible(5,10,15)"
   ]
  },
  {
   "cell_type": "markdown",
   "metadata": {},
   "source": [
    "### Trabajo con argumentos de palabra clave"
   ]
  },
  {
   "cell_type": "code",
   "execution_count": 27,
   "metadata": {},
   "outputs": [
    {
     "name": "stdout",
     "output_type": "stream",
     "text": [
      "Informe de la misión -> \n",
      " * Hora de prelanzamiento 8:00 \n",
      " * tiempo de vuelo EUA \n",
      " * destino 3\n",
      " * combustible 9\n"
     ]
    }
   ],
   "source": [
    "# Funcion de informe de misión  hora de prelanzamiento, tiempo de vuelo, destino, tanque externo y tanque interno\n",
    "\n",
    "def funcionMision (hr_prelanzamiento, tiempo_vuelo,destino,tanque_externo, tanque_interno):\n",
    "    informe = 'Informe de la misión -> \\n * Hora de prelanzamiento {} \\n * tiempo de vuelo {} \\n * destino {}\\n * combustible {}'\n",
    "\n",
    "    return informe.format(hr_prelanzamiento, tiempo_vuelo,destino,tanque_externo+tanque_interno)\n",
    "\n",
    "print(funcionMision('8:00','EUA','3',4,5))"
   ]
  },
  {
   "cell_type": "code",
   "execution_count": 26,
   "metadata": {},
   "outputs": [
    {
     "name": "stdout",
     "output_type": "stream",
     "text": [
      "Informe de la misión -> \n",
      " * Hora de prelanzamiento 10:00 \n",
      " * tiempo de vuelo 25 \n",
      " * destino EUA\n",
      " * tanques 9\n"
     ]
    }
   ],
   "source": [
    "# Escribe tu nueva función de reporte considerando lo anterior\n",
    "\n",
    "def funcionMision2 (hr_prelanzamiento,destino,*tiempo , **tanques):\n",
    "    informe = 'Informe de la misión -> \\n * Hora de prelanzamiento {} \\n * tiempo de vuelo {} \\n * destino {}\\n * tanques {}'\n",
    "    return informe.format(hr_prelanzamiento, sum(tiempo),destino, sum(tanques.values()))\n",
    "\n",
    "print(funcionMision2('10:00','EUA',10,15,tanks1=4, tanks2=5))"
   ]
  }
 ],
 "metadata": {
  "interpreter": {
   "hash": "9a46aadc68dd35e5d84a370dd720f9118447f9f7a9b6977dedb8e430f5a687ca"
  },
  "kernelspec": {
   "display_name": "Python 3.10.2 64-bit",
   "language": "python",
   "name": "python3"
  },
  "language_info": {
   "codemirror_mode": {
    "name": "ipython",
    "version": 3
   },
   "file_extension": ".py",
   "mimetype": "text/x-python",
   "name": "python",
   "nbconvert_exporter": "python",
   "pygments_lexer": "ipython3",
   "version": "3.10.2"
  },
  "orig_nbformat": 4
 },
 "nbformat": 4,
 "nbformat_minor": 2
}
