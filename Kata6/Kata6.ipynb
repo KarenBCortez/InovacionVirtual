{
 "cells": [
  {
   "cell_type": "markdown",
   "metadata": {},
   "source": [
    "# Listas\n",
    "\n",
    "### Crear y usar listas de Python"
   ]
  },
  {
   "cell_type": "code",
   "execution_count": 15,
   "metadata": {},
   "outputs": [
    {
     "name": "stdout",
     "output_type": "stream",
     "text": [
      "['Mercurio', 'Venus', 'Tierra', 'Marte', 'Jupiter', 'Sarturno', 'Urano', 'Neptuno']\n",
      "Numero de planetas de la lista: 9\n",
      "Ultimo elemento de la lista: Pluton\n"
     ]
    }
   ],
   "source": [
    "# Creamos la lista planets y la mostramos\n",
    "\n",
    "planets = ['Mercurio','Venus','Tierra','Marte','Jupiter','Sarturno','Urano','Neptuno']\n",
    "\n",
    "print(planets)\n",
    "\n",
    "planets.append('Pluton')\n",
    "\n",
    "print('Numero de planetas de la lista:',len(planets))\n",
    "print('Ultimo elemento de la lista:',planets[len(planets)-1])\n"
   ]
  },
  {
   "cell_type": "code",
   "execution_count": 16,
   "metadata": {},
   "outputs": [
    {
     "name": "stdout",
     "output_type": "stream",
     "text": [
      "Planetas más cercanos al sol que Urano : ['Mercurio', 'Venus', 'Tierra', 'Marte', 'Jupiter', 'Sarturno']\n",
      "Planetas más lejanos al sol que Urano : ['Neptuno']\n"
     ]
    }
   ],
   "source": [
    "# Lista de planetas\n",
    "planets = ['Mercurio','Venus','Tierra','Marte','Jupiter','Sarturno','Urano','Neptuno']\n",
    "\n",
    "# Solicitamos el nombre de un planeta \n",
    "planeta = input('Ingresar el nombre del planeta del que deseas saber que planetas estan más cerca y más que el sol (comenzar con una mayúscula)')\n",
    "\n",
    "# Busca el planeta en la lista\n",
    "indexPlaneta = planets.index(planeta)\n",
    "\n",
    "# Muestra los planetas más cercanos al sol\n",
    "print('Planetas más cercanos al sol que {} : {}'.format(planeta,planets[0:indexPlaneta]))\n",
    "\n",
    "# Muestra los planetas más lejanos al sol\n",
    "print('Planetas más lejanos al sol que {} : {}'.format(planeta,planets[indexPlaneta+1:]))\n",
    "    "
   ]
  },
  {
   "cell_type": "markdown",
   "metadata": {},
   "source": [
    "### Trabajando con datos de una lista"
   ]
  }
 ],
 "metadata": {
  "interpreter": {
   "hash": "9a46aadc68dd35e5d84a370dd720f9118447f9f7a9b6977dedb8e430f5a687ca"
  },
  "kernelspec": {
   "display_name": "Python 3.10.2 64-bit",
   "language": "python",
   "name": "python3"
  },
  "language_info": {
   "codemirror_mode": {
    "name": "ipython",
    "version": 3
   },
   "file_extension": ".py",
   "mimetype": "text/x-python",
   "name": "python",
   "nbconvert_exporter": "python",
   "pygments_lexer": "ipython3",
   "version": "3.10.2"
  },
  "orig_nbformat": 4
 },
 "nbformat": 4,
 "nbformat_minor": 2
}
