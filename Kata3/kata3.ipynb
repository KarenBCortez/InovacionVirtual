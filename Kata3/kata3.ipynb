{
 "cells": [
  {
   "cell_type": "markdown",
   "metadata": {},
   "source": [
    "# Expresiones booleanas\n",
    "\n",
    "## Ejercicio  1\n",
    "\n",
    "Añadir el código necesario para crear una variable que guarde la velocidad del asteroide. </br>\n",
    "Escribe una expresión de prueba para calcular si necesita una advertencia. </br>\n",
    "Agregue las instrucciones que se ejecutarán si la expresión de prueba es true o false. </br>"
   ]
  },
  {
   "cell_type": "code",
   "execution_count": 25,
   "metadata": {},
   "outputs": [
    {
     "name": "stdout",
     "output_type": "stream",
     "text": [
      "Advertencia!, un asteriode se acerca muy rapido\n"
     ]
    }
   ],
   "source": [
    "velocidadAsteriode = 50\n",
    "\n",
    "velocidadAdvertencia = 25\n",
    "\n",
    "if velocidadAsteriode > velocidadAdvertencia:\n",
    "    print(\"Advertencia!, un asteriode se acerca muy rapido\")\n",
    "else:\n",
    "    print(\"Sin advertencia\")\n",
    "\n"
   ]
  },
  {
   "cell_type": "markdown",
   "metadata": {},
   "source": [
    "## Ejercicio 2\n",
    "\n",
    "Agrega el código para crear una variable para un asteroide que viaja a 19 km/s </br>\n",
    "Escribe varias expresiones de prueba para determinar si puedes ver el rayo de luz desde la tierra </br>\n",
    "Agrega las instrucciones que se ejecutarán si las expresiones de prueba son True o False </br>"
   ]
  },
  {
   "cell_type": "code",
   "execution_count": 26,
   "metadata": {},
   "outputs": [
    {
     "name": "stdout",
     "output_type": "stream",
     "text": [
      "No es posible ver el rayo de luz\n"
     ]
    }
   ],
   "source": [
    "velocidadAsteriode = 19\n",
    "velocidadRayoLuz = 20\n",
    "\n",
    "if (velocidadAsteriode > velocidadRayoLuz):\n",
    "    print(\"Se puede ver el rayo de luz!\")\n",
    "elif velocidadAsteriode == velocidadRayoLuz :\n",
    "    print(\"Se puede ver el rayo de luz!\")\n",
    "else:\n",
    "    print(\"No es posible ver el rayo de luz\")\n"
   ]
  },
  {
   "cell_type": "markdown",
   "metadata": {},
   "source": [
    "### Ejercicio 3\n",
    "\n",
    "Agrega el código para crear nuevas variables para la velocidad y el tamaño del asteroide </br>\n",
    "Para probar el código, prueba con varias velocidades y tamaños </br>\n",
    "Escribe varias expresiones de prueba o combinaciones de expresiones de prueba para determinar qué mensaje se debe enviar a Tierra. </br>"
   ]
  },
  {
   "cell_type": "code",
   "execution_count": 35,
   "metadata": {},
   "outputs": [
    {
     "name": "stdout",
     "output_type": "stream",
     "text": [
      "Este asteriode no causara daño\n"
     ]
    }
   ],
   "source": [
    "velocidadAsteriode = 10\n",
    "tamanoAsteriode = 10\n",
    "\n",
    "if tamanoAsteriode > 25 and velocidadAsteriode > 25:\n",
    "    print(\"Advertencia un asteriode es peligroso para la tierra\")\n",
    "elif velocidadAsteriode >=20:\n",
    "    print(\"Se puede ver el rayo de luz!\")\n",
    "else:\n",
    "    print(\"Este asteriode no causara daño\")\n",
    "\n",
    "\n"
   ]
  },
  {
   "cell_type": "markdown",
   "metadata": {},
   "source": []
  }
 ],
 "metadata": {
  "interpreter": {
   "hash": "9a46aadc68dd35e5d84a370dd720f9118447f9f7a9b6977dedb8e430f5a687ca"
  },
  "kernelspec": {
   "display_name": "Python 3.10.2 64-bit",
   "language": "python",
   "name": "python3"
  },
  "language_info": {
   "codemirror_mode": {
    "name": "ipython",
    "version": 3
   },
   "file_extension": ".py",
   "mimetype": "text/x-python",
   "name": "python",
   "nbconvert_exporter": "python",
   "pygments_lexer": "ipython3",
   "version": "3.10.2"
  },
  "orig_nbformat": 4
 },
 "nbformat": 4,
 "nbformat_minor": 2
}
