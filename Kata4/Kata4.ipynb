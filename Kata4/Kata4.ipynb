{
 "cells": [
  {
   "cell_type": "markdown",
   "metadata": {},
   "source": [
    "# Cadenas"
   ]
  },
  {
   "cell_type": "code",
   "execution_count": 20,
   "metadata": {},
   "outputs": [
    {
     "name": "stdout",
     "output_type": "stream",
     "text": [
      " On average, the Moon moves 4cm away from the Earth every year\n",
      " The highest daylight temperature of the Moon is 127 Celcius\n"
     ]
    }
   ],
   "source": [
    "text = \"Interesting facts about the Moon. The Moon is Earth's only satellite. There are several interesting facts about the Moon and how it affects life here on Earth. On average, the Moon moves 4cm away from the Earth every year. This yearly drift is not significant enough to cause immediate effects on Earth. The highest daylight temperature of the Moon is 127 C\"\n",
    "\n",
    "textoDividido = text.split(\".\")\n",
    "\n",
    "palabrasClave = [ \"average\", \"temperature\" ,\"distance\"]\n",
    "\n",
    "for oracion  in textoDividido:\n",
    "    for clave in palabrasClave:\n",
    "\n",
    "        if(oracion.find(clave) != -1):\n",
    "            oracion = oracion.replace(\"C\",\"Celcius\")\n",
    "            print(oracion)\n",
    "            "
   ]
  },
  {
   "cell_type": "markdown",
   "metadata": {},
   "source": [
    "## Ejercicio 2: Formateando Cadenas\n",
    "\n",
    "Gravity Facts about Ganymede </br>\n",
    "# ------------------------------------------------------------------------\n",
    "Planet Name: Mars </br>\n",
    "Gravity on Ganymede: 1.4300000000000002 m/s2"
   ]
  },
  {
   "cell_type": "code",
   "execution_count": 28,
   "metadata": {},
   "outputs": [
    {
     "name": "stdout",
     "output_type": "stream",
     "text": [
      "Gravity Facts about  Moon \n",
      "-------------------------------------------------------------------------------- \n",
      "Planet Name: Earth\n",
      "Gravity on Earth 1.6199999999999999 \n",
      "\n",
      "Gravity Facts about  Moon \n",
      "-------------------------------------------------------------------------------- \n",
      "Planet Name: Earth\n",
      "Gravity on Earth 1.6199999999999999 \n",
      "\n",
      "Gravity Facts about  Ganímedes \n",
      "-------------------------- \n",
      "Planet Name: Marte  \n",
      "Gravity on Marte : 1.4300000000000002 \n",
      "\n"
     ]
    }
   ],
   "source": [
    "# Variables\n",
    "name = \"Moon\"\n",
    "gravity = 0.00162 # in kms\n",
    "planet = \"Earth\"\n",
    "\n",
    "# Creamos el título\n",
    "titulo = \"Gravity Facts about \"\n",
    "\n",
    "\n",
    "# Creamos la plantilla\n",
    "guiones=f\"{'-'*80}\"\n",
    "texto1 = f\"Planet Name: {planet}\"\n",
    "texto2 = f\"Gravity on {planet}\"\n",
    "plantilla = f'{titulo} {name} \\n{guiones} \\n{texto1}\\n{texto2} {gravity*1000} \\n'\n",
    "\n",
    "print(plantilla)\n",
    "\n",
    "# Comprueba la plantilla\n",
    "# print(nombre_plantilla)\n",
    "planet = 'Marte '\n",
    "gravity  = 0.00143\n",
    "name = 'Ganímedes'\n",
    "\n",
    "print(plantilla)\n",
    "\n",
    "# Nueva plantilla\n",
    "nuevaPlantilla  = '{} {} \\n{} \\nPlanet Name: {} \\nGravity on {}: {} \\n'\n",
    "\n",
    "gravedadMetros = gravity*1000;\n",
    "print(nuevaPlantilla.format(titulo,name,guiones,planet,planet,gravedadMetros))"
   ]
  }
 ],
 "metadata": {
  "interpreter": {
   "hash": "9a46aadc68dd35e5d84a370dd720f9118447f9f7a9b6977dedb8e430f5a687ca"
  },
  "kernelspec": {
   "display_name": "Python 3.10.2 64-bit",
   "language": "python",
   "name": "python3"
  },
  "language_info": {
   "codemirror_mode": {
    "name": "ipython",
    "version": 3
   },
   "file_extension": ".py",
   "mimetype": "text/x-python",
   "name": "python",
   "nbconvert_exporter": "python",
   "pygments_lexer": "ipython3",
   "version": "3.10.2"
  },
  "orig_nbformat": 4
 },
 "nbformat": 4,
 "nbformat_minor": 2
}
